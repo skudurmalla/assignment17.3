{
 "cells": [
  {
   "cell_type": "markdown",
   "metadata": {},
   "source": [
    "Problem Statement 1:\n",
    "Two balls are drawn at random in succession without replacement from an urn\n",
    "containing 4 red balls and 6 black balls.\n",
    "Find the probabilities of all the possible outcomes.\n"
   ]
  },
  {
   "cell_type": "markdown",
   "metadata": {},
   "source": [
    "Total number of balls=4+6=10\n",
    "\n",
    "Number of possible outcomes=RR,BB,RB,BR\n",
    "\n",
    "Total number of possible outcomes when two balls are drawn=10P2=10!/(10-2)!=90\n",
    "\n",
    "probability(RR) = 4C1*3C1/90 = 4*3/90 = 0.1333\n",
    "\n",
    "probability(BB) = 6C1*5C1/90 = 35/90 = 0.3888\n",
    "\n",
    "probability(RB) = 4C1*6C1/90 = 24/90 = 0.2666\n",
    "\n",
    "probability(BR) = 6C1*4C1/90 = 24/90 = 0.2666\n",
    "\n",
    "Probabilities of all possible outcomes are 0.1333, 0.3888, 0.2666, 0.2666\n",
    "\n"
   ]
  }
 ],
 "metadata": {
  "kernelspec": {
   "display_name": "Python 3",
   "language": "python",
   "name": "python3"
  },
  "language_info": {
   "codemirror_mode": {
    "name": "ipython",
    "version": 3
   },
   "file_extension": ".py",
   "mimetype": "text/x-python",
   "name": "python",
   "nbconvert_exporter": "python",
   "pygments_lexer": "ipython3",
   "version": "3.5.5"
  }
 },
 "nbformat": 4,
 "nbformat_minor": 2
}
